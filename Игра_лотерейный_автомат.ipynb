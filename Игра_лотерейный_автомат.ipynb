{
  "nbformat": 4,
  "nbformat_minor": 0,
  "metadata": {
    "colab": {
      "provenance": [],
      "collapsed_sections": []
    },
    "kernelspec": {
      "name": "python3",
      "display_name": "Python 3"
    },
    "language_info": {
      "name": "python"
    }
  },
  "cells": [
    {
      "cell_type": "markdown",
      "source": [
        "Смоделировать игру против лотерейного автомата типа “777”. Игрок платит 1 руб., после чего выпадает случайное целое число, равномерно распределенное от 0 до 999. При некоторых значениях числа игрок получает выигрыш.\n",
        "\n",
        "\n",
        "777: 200 руб.\n",
        "\n",
        "999: 100 руб.\n",
        "\n",
        "555: 50 руб.\n",
        "\n",
        "333: 15 руб.\n",
        "\n",
        "111: 10 руб.\n",
        "\n",
        "*77: 5 руб.\n",
        "\n",
        "**7: 3 руб.\n",
        "\n",
        "*00: 2 руб.\n",
        "\n",
        "**0: 1 руб.\n",
        "\n",
        "Вопросы:\n",
        "\n",
        "Выгодна ли игра игроку?\n",
        "Сколько в среднем приобретает или теряет игрок за одну игру?\n",
        "**Дополнительное задание повышенной сложности. **\n",
        "\n",
        "Теоретически рассчитать средний выигрыш (проигрыш) и сравнить с результатами моделирования\n"
      ],
      "metadata": {
        "id": "potY52FwichJ"
      }
    },
    {
      "cell_type": "code",
      "source": [
        "import pandas as pd\n",
        "import numpy as np\n",
        "import matplotlib.pyplot as plt\n"
      ],
      "metadata": {
        "id": "-TFNIWFviZ5L"
      },
      "execution_count": null,
      "outputs": []
    },
    {
      "cell_type": "code",
      "source": [
        "c =  10000000 #число экспериментов \n",
        "total_pl=0\n",
        "m=[]\n",
        "for i in range(c):\n",
        "  b = 1 #np.random.randint(1,100) #число бросков \n",
        "  profit=0\n",
        "  loses=b\n",
        "  pl=0\n",
        "  for j in range(b):\n",
        "    a = np.random.randint(0,1000) #число вариантов выпадения числа\n",
        "    if a==777:\n",
        "      profit = profit+200\n",
        "    elif a==999:\n",
        "      profit = profit+100\n",
        "    elif a==555:\n",
        "      profit = profit+50\n",
        "    elif a==333:\n",
        "      profit = profit+15      \n",
        "    elif a==111:\n",
        "      profit = profit+10\n",
        "    elif (a-77)%100==0 and a!=777:\n",
        "      profit = profit+5      \n",
        "    elif (a-7)%10==0 and (a-77)%100!=0 and a!=777:\n",
        "      profit = profit+3 \n",
        "    elif a%100==0 and a!=0:\n",
        "      profit = profit+2   \n",
        "    elif a%10==0 and a%100!=0:\n",
        "      profit = profit+1    \n",
        "  pl=profit-loses\n",
        "\n",
        "  m.append(pl)\n",
        "  total_pl=total_pl+pl\n",
        "print('средний выигрыш/проигрыш', sum(m)/c)\n"
      ],
      "metadata": {
        "colab": {
          "base_uri": "https://localhost:8080/"
        },
        "id": "F3RRbyP-iZ-R",
        "outputId": "fcfee202-1a8a-4ffd-f595-f6513ff2ae26"
      },
      "execution_count": null,
      "outputs": [
        {
          "output_type": "stream",
          "name": "stdout",
          "text": [
            "средний выигрыш/проигрыш -0.2004173\n"
          ]
        }
      ]
    },
    {
      "cell_type": "code",
      "source": [
        "# Игра невыгодна, тк всегда в среднем человек проигрывает (отрицательное значение \"доход-расход\"). "
      ],
      "metadata": {
        "id": "HYghChCDiaDp"
      },
      "execution_count": null,
      "outputs": []
    },
    {
      "cell_type": "code",
      "source": [
        "# Математическое подтверждение\n",
        "# одна игра приносит проигрыш -0.2 руб. Следовательно, чем больше бросков - тем больше средний проигрыш. Если 50 бросков  то средний проигрыш -10 руб.\n",
        "1*(200-1)/1000+1*(100-1)/1000+1*(50-1)/1000+1*(15-1)/1000+1*(10-1)/1000+9*(5-1)/1000+90*(3-1)/1000+9*(2-1)/1000+91*(1-1)/1000-796*1/1000"
      ],
      "metadata": {
        "colab": {
          "base_uri": "https://localhost:8080/"
        },
        "id": "sobs78pO1vUc",
        "outputId": "16da5675-c18c-4972-dc65-9f5eca2763c3"
      },
      "execution_count": null,
      "outputs": [
        {
          "output_type": "execute_result",
          "data": {
            "text/plain": [
              "-0.20099999999999996"
            ]
          },
          "metadata": {},
          "execution_count": 233
        }
      ]
    },
    {
      "cell_type": "code",
      "source": [],
      "metadata": {
        "id": "hUiF-z-wy1ru"
      },
      "execution_count": null,
      "outputs": []
    }
  ]
}
